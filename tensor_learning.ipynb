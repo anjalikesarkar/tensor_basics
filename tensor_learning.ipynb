{
 "cells": [
  {
   "cell_type": "code",
   "execution_count": 2,
   "id": "9d172143-7ec6-43f7-b16d-d84aeb29205b",
   "metadata": {},
   "outputs": [],
   "source": [
    "import torch"
   ]
  },
  {
   "cell_type": "code",
   "execution_count": 3,
   "id": "245e164b-130c-41e3-bee6-155b0086e0da",
   "metadata": {},
   "outputs": [
    {
     "data": {
      "text/plain": [
       "tensor([1, 2, 3])"
      ]
     },
     "execution_count": 3,
     "metadata": {},
     "output_type": "execute_result"
    }
   ],
   "source": [
    "#Tensor with passing values\n",
    "t1 = torch.tensor([1,2,3])\n",
    "t1"
   ]
  },
  {
   "cell_type": "code",
   "execution_count": 5,
   "id": "bec3503f-cf34-4187-a9d0-d7bd966e0261",
   "metadata": {},
   "outputs": [
    {
     "data": {
      "text/plain": [
       "tensor([[0., 0., 0.],\n",
       "        [0., 0., 0.],\n",
       "        [0., 0., 0.],\n",
       "        [0., 0., 0.],\n",
       "        [0., 0., 0.]])"
      ]
     },
     "execution_count": 5,
     "metadata": {},
     "output_type": "execute_result"
    }
   ],
   "source": [
    "# Tensor of zero's no. of rows, col\n",
    "zero = torch.zeros(5,3)\n",
    "zero"
   ]
  },
  {
   "cell_type": "code",
   "execution_count": 6,
   "id": "b7879aec-7a21-47b2-a331-80744ef49f99",
   "metadata": {},
   "outputs": [
    {
     "data": {
      "text/plain": [
       "tensor([[1., 1., 1.],\n",
       "        [1., 1., 1.],\n",
       "        [1., 1., 1.]])"
      ]
     },
     "execution_count": 6,
     "metadata": {},
     "output_type": "execute_result"
    }
   ],
   "source": [
    "#Tensor of one's with no.of row,col\n",
    "ones = torch.ones(3,3)\n",
    "ones"
   ]
  },
  {
   "cell_type": "code",
   "execution_count": 9,
   "id": "9d4a79a3-5e8a-4425-8c77-f46aa096ad18",
   "metadata": {},
   "outputs": [
    {
     "data": {
      "text/plain": [
       "tensor([[0.1837, 0.8000, 0.4710, 0.7358],\n",
       "        [0.9947, 0.3715, 0.9964, 0.9130],\n",
       "        [0.9682, 0.9761, 0.1381, 0.5243]])"
      ]
     },
     "execution_count": 9,
     "metadata": {},
     "output_type": "execute_result"
    }
   ],
   "source": [
    "# Create a random tensor\n",
    "random_tensor = torch.rand(size=(3, 4)) # this will create a tensor of size 3x4 but you can manipulate the shape however you want\n",
    "random_tensor"
   ]
  },
  {
   "cell_type": "code",
   "execution_count": 9,
   "id": "741cb498-309b-4908-b1f2-9899314f0638",
   "metadata": {},
   "outputs": [
    {
     "data": {
      "text/plain": [
       "tensor([[0.1890, 0.9370],\n",
       "        [0.8062, 0.8358],\n",
       "        [0.6301, 0.6363]])"
      ]
     },
     "execution_count": 9,
     "metadata": {},
     "output_type": "execute_result"
    }
   ],
   "source": [
    "a = torch.rand(3,2)\n",
    "b = torch.rand(2,4)\n",
    "a"
   ]
  },
  {
   "cell_type": "code",
   "execution_count": 10,
   "id": "a7cfa513-50cd-427a-a98a-cfacc739c1f9",
   "metadata": {},
   "outputs": [
    {
     "data": {
      "text/plain": [
       "tensor([[0.7310, 0.7619, 0.4557, 0.8180],\n",
       "        [0.1336, 0.8598, 0.4725, 0.0978]])"
      ]
     },
     "execution_count": 10,
     "metadata": {},
     "output_type": "execute_result"
    }
   ],
   "source": [
    "b"
   ]
  },
  {
   "cell_type": "code",
   "execution_count": 11,
   "id": "da4dd917-db00-4fb8-bd61-2bf3888a3c46",
   "metadata": {},
   "outputs": [
    {
     "data": {
      "text/plain": [
       "tensor([[0.2633, 0.9497, 0.5289, 0.2463],\n",
       "        [0.7010, 1.3329, 0.7623, 0.7413],\n",
       "        [0.5456, 1.0272, 0.5878, 0.5777]])"
      ]
     },
     "execution_count": 11,
     "metadata": {},
     "output_type": "execute_result"
    }
   ],
   "source": [
    "#matrix multiplication\n",
    "matmul = torch.matmul(a,b)\n",
    "matmul"
   ]
  },
  {
   "cell_type": "code",
   "execution_count": 13,
   "id": "f1a27a0e-7df4-48a5-939c-dab2ab021d88",
   "metadata": {},
   "outputs": [
    {
     "data": {
      "text/plain": [
       "tensor([[0.2633, 0.9497, 0.5289, 0.2463],\n",
       "        [0.7010, 1.3329, 0.7623, 0.7413],\n",
       "        [0.5456, 1.0272, 0.5878, 0.5777]])"
      ]
     },
     "execution_count": 13,
     "metadata": {},
     "output_type": "execute_result"
    }
   ],
   "source": [
    "# Matrix multiplication (element-wise multiplication)\n",
    "mm = torch.mm(a,b)\n",
    "mm"
   ]
  },
  {
   "cell_type": "code",
   "execution_count": null,
   "id": "315d64c2-f987-404c-81d1-4aba62106b31",
   "metadata": {},
   "outputs": [],
   "source": []
  }
 ],
 "metadata": {
  "kernelspec": {
   "display_name": "Python 3 (ipykernel)",
   "language": "python",
   "name": "python3"
  },
  "language_info": {
   "codemirror_mode": {
    "name": "ipython",
    "version": 3
   },
   "file_extension": ".py",
   "mimetype": "text/x-python",
   "name": "python",
   "nbconvert_exporter": "python",
   "pygments_lexer": "ipython3",
   "version": "3.9.21"
  },
  "widgets": {
   "application/vnd.jupyter.widget-state+json": {
    "state": {},
    "version_major": 2,
    "version_minor": 0
   }
  }
 },
 "nbformat": 4,
 "nbformat_minor": 5
}
